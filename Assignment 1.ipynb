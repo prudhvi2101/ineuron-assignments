{
 "cells": [
  {
   "cell_type": "markdown",
   "id": "524c7e8b",
   "metadata": {},
   "source": [
    "#### 1. In the below elements which of them are values or an expression? eg:- values can be\n",
    "integer or string and expressions will be mathematical operators.\n",
    "    *  expression,\n",
    "    hello  value,\n",
    "    -87.8 - value,\n",
    "    -  expression,\n",
    "    /  expression,\n",
    "    +  expression,\n",
    "    6  value"
   ]
  },
  {
   "cell_type": "markdown",
   "id": "3085f708",
   "metadata": {},
   "source": [
    "#### 2. what is the different between string and variable?\n",
    "\n",
    "A string is any value representing a text. \n",
    "\n",
    "A variable is a name that is used to represent/refer any value."
   ]
  },
  {
   "cell_type": "markdown",
   "id": "e15c1e92",
   "metadata": {},
   "source": [
    "#### 3. Describe 3 different data types.\n",
    "\n",
    "string - A string is any values representing a text. strings are defined using '' or \"\". Ex: \"Hello World\"\n",
    "    \n",
    "int - Interger is any numerical value. Ex : 5,6,7\n",
    "    \n",
    "float - Float is any decimal form of a number. Ex: 10.5, 6.2"
   ]
  },
  {
   "cell_type": "markdown",
   "id": "ff85c53a",
   "metadata": {},
   "source": [
    "#### 4. What is an expression made up of? What do all expressions do?\n",
    "\n",
    "An expression is a combination of values and operators. The expressions are evaluated and produce results"
   ]
  },
  {
   "cell_type": "markdown",
   "id": "3196bb87",
   "metadata": {},
   "source": [
    "#### 5. This assignment statements, like spam = 10. What is the difference between an expression and a statement?\n",
    "\n",
    "An expression is combination of values and operators and an expression are evaluatred. However, statement is like assiging a value to a variable."
   ]
  },
  {
   "cell_type": "markdown",
   "id": "63ee55f3",
   "metadata": {},
   "source": [
    "#### 6. After running the following code, what does the variable bacon contain?\n",
    "bacon = 22\n",
    "bacon + 1\n",
    "\n",
    "Ans: 23"
   ]
  },
  {
   "cell_type": "markdown",
   "id": "9476c2cb",
   "metadata": {},
   "source": [
    "#### 7. What should the values of the following two terms be?\n",
    "\n",
    "'spam' + 'spamspam' = 'spamspamspam'\n",
    "\n",
    "'spam' * 3 = 'spamspamspam'\n"
   ]
  },
  {
   "cell_type": "markdown",
   "id": "cf287ac4",
   "metadata": {},
   "source": [
    "#### 8. Why is eggs a valid variable name while 100 is invalid?\n",
    "\n",
    "A variable name should never be started with a number. Hence, eggs is a valid variable name than 100."
   ]
  },
  {
   "cell_type": "markdown",
   "id": "25413bc1",
   "metadata": {},
   "source": [
    "#### 9. What three functions can be used to get the integer, floating-point number, or string version of a value?\n",
    "\n",
    "int() is used to get integer version of the value\n",
    "float() is used to ger float version of the value\n",
    "str() is used to get string version of the value"
   ]
  },
  {
   "cell_type": "markdown",
   "id": "4dfbb5a0",
   "metadata": {},
   "source": [
    "#### 10. Why does this expression cause an error? How can you fix it?\n",
    "'I have eaten' + 99 + 'burritos'\n",
    "\n",
    "Ans: Strings can not be added to an integer. "
   ]
  }
 ],
 "metadata": {
  "kernelspec": {
   "display_name": "Python 3 (ipykernel)",
   "language": "python",
   "name": "python3"
  },
  "language_info": {
   "codemirror_mode": {
    "name": "ipython",
    "version": 3
   },
   "file_extension": ".py",
   "mimetype": "text/x-python",
   "name": "python",
   "nbconvert_exporter": "python",
   "pygments_lexer": "ipython3",
   "version": "3.9.13"
  }
 },
 "nbformat": 4,
 "nbformat_minor": 5
}
