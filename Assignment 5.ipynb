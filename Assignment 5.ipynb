{
 "cells": [
  {
   "cell_type": "markdown",
   "id": "e9128ffa",
   "metadata": {},
   "source": [
    " #### 1. What does an empty dictionary&#39;s code look like?"
   ]
  },
  {
   "cell_type": "markdown",
   "id": "b6649605",
   "metadata": {},
   "source": [
    "* Ans d = { }"
   ]
  },
  {
   "cell_type": "markdown",
   "id": "ad5212fb",
   "metadata": {},
   "source": [
    "#### 2. What is the value of a dictionary value with the key &#39;foo&#39; and the value 42?"
   ]
  },
  {
   "cell_type": "markdown",
   "id": "03572800",
   "metadata": {},
   "source": [
    "* Ans: d = {'foo', 42}"
   ]
  },
  {
   "cell_type": "markdown",
   "id": "b41140d6",
   "metadata": {},
   "source": [
    "#### 3. What is the most significant distinction between a dictionary and a list?"
   ]
  },
  {
   "cell_type": "markdown",
   "id": "0755bb81",
   "metadata": {},
   "source": [
    "* Ans: Dictionaries are represented by { } where as listed are represented by [ ]. The Items stored in a dictionary are Unordered however the items in a list are ordered"
   ]
  },
  {
   "cell_type": "markdown",
   "id": "7ef3a2ec",
   "metadata": {},
   "source": [
    "#### 4. What happens if you try to access spam[&#39;foo&#39;] if spam is {&#39;bar&#39;: 100}?"
   ]
  },
  {
   "cell_type": "markdown",
   "id": "837c0ca4",
   "metadata": {},
   "source": [
    "* Ans: we will get a keyError  KeyError: 'foo'"
   ]
  },
  {
   "cell_type": "markdown",
   "id": "801df8dd",
   "metadata": {},
   "source": [
    "#### 5. If a dictionary is stored in spam, what is the difference between the expressions &#39;cat&#39; in spam and \n",
    "#### 'cat' in spam.keys()?"
   ]
  },
  {
   "cell_type": "markdown",
   "id": "39c17dcb",
   "metadata": {},
   "source": [
    "* Ans: There is no difference . Both will return same answer."
   ]
  },
  {
   "cell_type": "markdown",
   "id": "1f9a7309",
   "metadata": {},
   "source": [
    "#### 6. If a dictionary is stored in spam, what is the difference between the expressions &#39;cat&#39; in spam and\n",
    "#### 'cat' in spam.values()?"
   ]
  },
  {
   "cell_type": "markdown",
   "id": "44fc1736",
   "metadata": {},
   "source": [
    "* Ans:'cat' in spam checks whether there is a 'cat' key in the dictionary, while 'cat' in spam.values() checks whether there is a value 'cat' for one of the keys in spam."
   ]
  },
  {
   "cell_type": "markdown",
   "id": "c24bd25c",
   "metadata": {},
   "source": [
    "#### 7. What is a shortcut for the following code?\n",
    "#### if 'cat' not in spam:\n",
    "#### spam['color'] = 'black'"
   ]
  },
  {
   "cell_type": "markdown",
   "id": "9adab042",
   "metadata": {},
   "source": [
    "* Ans spam.setdefault('color','black')"
   ]
  },
  {
   "cell_type": "markdown",
   "id": "6468c120",
   "metadata": {},
   "source": [
    "#### 8. How do you \"pretty print\" dictionary values using which module and function?"
   ]
  },
  {
   "cell_type": "markdown",
   "id": "fcd312e3",
   "metadata": {},
   "source": [
    "* Ans: we can use the modele pprint and pprint.pprint() function to pretty print the dictionary."
   ]
  },
  {
   "cell_type": "code",
   "execution_count": null,
   "id": "16ab4923",
   "metadata": {},
   "outputs": [],
   "source": []
  }
 ],
 "metadata": {
  "kernelspec": {
   "display_name": "Python 3 (ipykernel)",
   "language": "python",
   "name": "python3"
  },
  "language_info": {
   "codemirror_mode": {
    "name": "ipython",
    "version": 3
   },
   "file_extension": ".py",
   "mimetype": "text/x-python",
   "name": "python",
   "nbconvert_exporter": "python",
   "pygments_lexer": "ipython3",
   "version": "3.10.8"
  }
 },
 "nbformat": 4,
 "nbformat_minor": 5
}
