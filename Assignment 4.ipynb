{
 "cells": [
  {
   "cell_type": "markdown",
   "id": "0c5ef55b",
   "metadata": {},
   "source": [
    "## 1. What exactly is []?\n",
    "\n",
    "* Ans: [ ] is used to represet a list. List is a sequential data type in Python"
   ]
  },
  {
   "cell_type": "code",
   "execution_count": 1,
   "id": "67a5528c",
   "metadata": {},
   "outputs": [
    {
     "data": {
      "text/plain": [
       "[2, 4, 'hello', 8, 10]"
      ]
     },
     "execution_count": 1,
     "metadata": {},
     "output_type": "execute_result"
    }
   ],
   "source": [
    "## 2. In a list of values stored in a variable called spam, how would you assign the value 'hello' as the third value? (Assume [2, 4, 6, 8, 10] are in spam.)\n",
    "\n",
    "spam = [2,4,6,8,10]\n",
    "spam[2] = 'hello' \n",
    "spam"
   ]
  },
  {
   "cell_type": "markdown",
   "id": "7610948b",
   "metadata": {},
   "source": [
    "## Let's pretend the spam includes the list ['a','b','c','d'] for the next three queries."
   ]
  },
  {
   "cell_type": "markdown",
   "id": "670e7889",
   "metadata": {},
   "source": [
    "## 3. What is the value of spam[int(int('3' * 2) / 11)]?\n",
    "\n",
    "* Ans: 'd'"
   ]
  },
  {
   "cell_type": "markdown",
   "id": "a0d8e01e",
   "metadata": {},
   "source": [
    "## 4. What is the value of spam[-1]?\n",
    "\n",
    "* Ans: 'd'"
   ]
  },
  {
   "cell_type": "markdown",
   "id": "a0ebca29",
   "metadata": {},
   "source": [
    "## 5. What is the value of spam[:2]?\n",
    "\n",
    "* Ans: ['a', 'b']"
   ]
  },
  {
   "cell_type": "markdown",
   "id": "9dc0b2e6",
   "metadata": {},
   "source": [
    "### Let's pretend bacon has the list [3.14, 'cat', 11, 'cat', True] for the next three questions."
   ]
  },
  {
   "cell_type": "markdown",
   "id": "8492fad9",
   "metadata": {},
   "source": [
    "## 6. What is the value of bacon.index('cat')?\n",
    "\n",
    "* Ans: 1"
   ]
  },
  {
   "cell_type": "markdown",
   "id": "6484d375",
   "metadata": {},
   "source": [
    "## 7. How does bacon.append(99) change the look of the list value in bacon?\n",
    "\n",
    "* Ans: [3.14, 'cat', 11, 'cat', True, 99]"
   ]
  },
  {
   "cell_type": "markdown",
   "id": "8d52b4df",
   "metadata": {},
   "source": [
    "## 8. How does bacon.remove('cat') change the look of the list in bacon?\n",
    "\n",
    "* Ans: [3.14, 11, 'cat', True, 99]"
   ]
  },
  {
   "cell_type": "markdown",
   "id": "0ac58b5c",
   "metadata": {},
   "source": [
    "## 9. What are the list concatenation and list replication operators?\n",
    "\n",
    "* Ans: List concatination will add 2 lists. Ex: when list1 of 3 items ans list2 of 2 items are concatinated using '+' operator, a list with 5 items will be created.\n",
    "*      List replication  means multiplying a list with an integer using the operator '*'"
   ]
  },
  {
   "cell_type": "markdown",
   "id": "acf70bd1",
   "metadata": {},
   "source": [
    "## 10. What is difference between the list methods append() and insert()?\n",
    "\n",
    "* Ans: append() adds an item to the end of a list, insert() inserts and item in a specified position in the list."
   ]
  },
  {
   "cell_type": "markdown",
   "id": "02b55e25",
   "metadata": {},
   "source": [
    "## 11. What are the two methods for removing items from a list?\n",
    "\n",
    "*Ans: remove(), pop()"
   ]
  },
  {
   "cell_type": "markdown",
   "id": "e022ec65",
   "metadata": {},
   "source": [
    "## 12. Describe how list values and string values are identical.\n",
    "\n",
    "* Ans: Lists and strings both have charecters or items in sequential order. Slicing can be perform in both lists and strings"
   ]
  },
  {
   "cell_type": "markdown",
   "id": "1952979d",
   "metadata": {},
   "source": [
    "## 13. What's the difference between tuples and lists?\n",
    "\n",
    "*Ans: \n",
    "*     List is mutable in nature, tuple is not mutable.\n",
    "*     List is represented by [ ], tuple is represented by ( )\n",
    "*     List items can be modified, tuple items vannot be modified."
   ]
  },
  {
   "cell_type": "markdown",
   "id": "75d0597b",
   "metadata": {},
   "source": [
    "## 14. How do you type a tuple value that only contains the integer 42?\n",
    "\n",
    "* Ans: (42,)"
   ]
  },
  {
   "cell_type": "markdown",
   "id": "0675671c",
   "metadata": {},
   "source": [
    "## 15. How do you get a list value's tuple form? How do you get a tuple value's list form?\n",
    "\n",
    "* x = ['a','b','c','d']\n",
    "\n",
    "*      tuple(x) - To convert a list into tuple.\n",
    "*      list(x) - This will convert the tuple into list data type"
   ]
  },
  {
   "cell_type": "markdown",
   "id": "d1e33f9b",
   "metadata": {},
   "source": [
    "## 16. Variables that \"contain\" list values are not necessarily lists themselves. Instead, what do they contain?\n",
    "\n",
    "* Ans: A list may contain a differnt data type values like strings, integers, boolean values, complex numbers, tuples, set,        dictionaries etc"
   ]
  },
  {
   "cell_type": "markdown",
   "id": "979f42eb",
   "metadata": {},
   "source": [
    "## 17. How do you distinguish between copy.copy() and copy.deepcopy()?\n",
    "\n",
    "* Ans: copy() create reference to original object. If you change copied object - you change the original object.\n",
    "       deepcopy() creates new object and does real copying of original object to new one"
   ]
  },
  {
   "cell_type": "code",
   "execution_count": null,
   "id": "00be565d",
   "metadata": {},
   "outputs": [],
   "source": []
  }
 ],
 "metadata": {
  "kernelspec": {
   "display_name": "Python 3 (ipykernel)",
   "language": "python",
   "name": "python3"
  },
  "language_info": {
   "codemirror_mode": {
    "name": "ipython",
    "version": 3
   },
   "file_extension": ".py",
   "mimetype": "text/x-python",
   "name": "python",
   "nbconvert_exporter": "python",
   "pygments_lexer": "ipython3",
   "version": "3.10.8"
  }
 },
 "nbformat": 4,
 "nbformat_minor": 5
}
