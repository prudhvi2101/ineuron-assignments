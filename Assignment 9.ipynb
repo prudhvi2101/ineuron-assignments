{
 "cells": [
  {
   "cell_type": "markdown",
   "id": "8c138916",
   "metadata": {},
   "source": [
    "#### 1. To what does a relative path refer?"
   ]
  },
  {
   "cell_type": "markdown",
   "id": "be6916ed",
   "metadata": {},
   "source": [
    "* Ans: A relative path describes the location of a file relative to the current working directory"
   ]
  },
  {
   "cell_type": "markdown",
   "id": "d3105d4c",
   "metadata": {},
   "source": [
    "#### 2. What does an absolute path start with your operating system?"
   ]
  },
  {
   "cell_type": "markdown",
   "id": "33c0e073",
   "metadata": {},
   "source": [
    "* Ans:  In Linux based systems the absolute path starts with /. Where as in Windows based systems absolute path starts with C:"
   ]
  },
  {
   "cell_type": "markdown",
   "id": "b78f1d75",
   "metadata": {},
   "source": [
    "#### 3. What do the functions os.getcwd() and os.chdir() do?"
   ]
  },
  {
   "cell_type": "markdown",
   "id": "fedbe2a0",
   "metadata": {},
   "source": [
    "* Ans: os.getcwd() method tells us the location of current working directory (CWD). Whereas os.chdir() method in Python used to change the current working directory to specified path. "
   ]
  },
  {
   "cell_type": "markdown",
   "id": "56c3cbe9",
   "metadata": {},
   "source": [
    "#### 4. What are the . and .. folders?"
   ]
  },
  {
   "cell_type": "markdown",
   "id": "a31ff45e",
   "metadata": {},
   "source": [
    "* Ans: . Represents the Current Directory Whereas .. Represents the Parent Directory of the Current Directory"
   ]
  },
  {
   "cell_type": "markdown",
   "id": "f0514995",
   "metadata": {},
   "source": [
    "#### 5. In C:\\bacon\\eggs\\spam.txt, which part is the dir name, and which part is the base name?"
   ]
  },
  {
   "cell_type": "markdown",
   "id": "df31dc6d",
   "metadata": {},
   "source": [
    "* Ans:\n",
    "\n",
    "    - The dir name is C:\\\\bacon\\\\eggs\n",
    "    - The Base name is spam.txt"
   ]
  },
  {
   "cell_type": "markdown",
   "id": "fe09cc29",
   "metadata": {},
   "source": [
    "#### 6. What are the three “mode” arguments that can be passed to the open() function?"
   ]
  },
  {
   "cell_type": "markdown",
   "id": "974e77d7",
   "metadata": {},
   "source": [
    "* Ans:\n",
    "    \n",
    "    - ‘r’ – Read Mode\n",
    "    - ‘w’ – Write Mode\n",
    "    - ‘r+’ – Read/Write Mode\n",
    "    - ‘a’ – Append Mode\n",
    "    - ‘a+’ – Append and Read Mode\n",
    "    - ‘x’ – Exclusive Creating Mode"
   ]
  },
  {
   "cell_type": "markdown",
   "id": "8e1ab918",
   "metadata": {},
   "source": [
    "#### 7. What happens if an existing file is opened in write mode?"
   ]
  },
  {
   "cell_type": "markdown",
   "id": "acff493a",
   "metadata": {},
   "source": [
    "* Ans: Using this mode will overwrite any existing content in a file. If the given file does not exist, a new one will be created."
   ]
  },
  {
   "cell_type": "markdown",
   "id": "a4cc791c",
   "metadata": {},
   "source": [
    "#### 8. How do you tell the difference between read() and readlines()?"
   ]
  },
  {
   "cell_type": "markdown",
   "id": "e152509c",
   "metadata": {},
   "source": [
    "* Ans:  The main difference is that read() will read the whole file at once and then print out the first characters that take up as many bytes as you specify in the parenthesis\n",
    "\n",
    "    - Whereas the readline() that will read and print out only the first characters that take up as many bytes as you specify in the parenthesis. You may want to use readline() when you're reading files that are too big for your RAM.\n",
    "    - The read() would treat each character in the file separately, meaning that the iteration would happen for every character.\n",
    "    - The readline() function, on the other hand, only reads a single line of the file. This means that if the first line of the file were three lines long, the readline() function would only parse (or iterate/operate) on the first line of the file."
   ]
  },
  {
   "cell_type": "markdown",
   "id": "b7932850",
   "metadata": {},
   "source": [
    "#### 9. What data structure does a shelf value resemble?"
   ]
  },
  {
   "cell_type": "markdown",
   "id": "1682dedb",
   "metadata": {},
   "source": [
    "* Ans: A shelf value resembles a dictionary value; it has keys and values, along with keys() and values() methods that work similarly to the dictionary methods of the same names."
   ]
  }
 ],
 "metadata": {
  "kernelspec": {
   "display_name": "Python 3 (ipykernel)",
   "language": "python",
   "name": "python3"
  },
  "language_info": {
   "codemirror_mode": {
    "name": "ipython",
    "version": 3
   },
   "file_extension": ".py",
   "mimetype": "text/x-python",
   "name": "python",
   "nbconvert_exporter": "python",
   "pygments_lexer": "ipython3",
   "version": "3.10.8"
  }
 },
 "nbformat": 4,
 "nbformat_minor": 5
}
