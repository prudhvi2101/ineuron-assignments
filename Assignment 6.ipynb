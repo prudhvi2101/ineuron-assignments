{
 "cells": [
  {
   "cell_type": "markdown",
   "id": "0a442ecd",
   "metadata": {},
   "source": [
    "#### 1. What are escape characters, and how do you use them?"
   ]
  },
  {
   "cell_type": "markdown",
   "id": "68381c77",
   "metadata": {},
   "source": [
    "* Ans:  Escape characters represent characters in string values that help us to print a code. we can use the backslash character to escape a single character or symbol\n",
    "* Example: \\t, \\n"
   ]
  },
  {
   "cell_type": "markdown",
   "id": "af5e84f0",
   "metadata": {},
   "source": [
    "#### 2. What do the escape characters n and t stand for?"
   ]
  },
  {
   "cell_type": "markdown",
   "id": "e920081f",
   "metadata": {},
   "source": [
    "* Ans: \\n is used for a newline, \\t is used for tab space."
   ]
  },
  {
   "cell_type": "markdown",
   "id": "75d2e2a1",
   "metadata": {},
   "source": [
    "#### 3. What is the way to include backslash characters in a string?"
   ]
  },
  {
   "cell_type": "markdown",
   "id": "14bbd1fd",
   "metadata": {},
   "source": [
    "* Ans: In Python, (\\) is a special character. Ising the backslash in front of another character, changes the meaning of that character."
   ]
  },
  {
   "cell_type": "markdown",
   "id": "ffa49227",
   "metadata": {},
   "source": [
    "#### 4. The string \"Howl's Moving Castle\" is a correct value. Why isn't the single quote character in the word Howl's not escaped a problem?"
   ]
  },
  {
   "cell_type": "markdown",
   "id": "8acdc09f",
   "metadata": {},
   "source": [
    "* Ans: The string \"Howl's Moving Castle\" does not through error because the entire string wrapped inside double quotes."
   ]
  },
  {
   "cell_type": "markdown",
   "id": "1dd01ae0",
   "metadata": {},
   "source": [
    "#### 5. How do you write a string of newlines if you don&#39;t want to use the n character?"
   ]
  },
  {
   "cell_type": "markdown",
   "id": "1ed868ec",
   "metadata": {},
   "source": [
    "* Ans: We can write the entire string between tree times souble/single quotes if we do not want to use the n charecter.\n",
    "    \n",
    "    Ex: string = '''Hello\n",
    "    \n",
    "                    World!!'''"
   ]
  },
  {
   "cell_type": "markdown",
   "id": "cbd54ffe",
   "metadata": {},
   "source": [
    "#### 6. What are the values of the given expressions?\n",
    "* 'Hello, world!'[1]\n",
    "* 'Hello, world!'[0:5]\n",
    "* 'Hello, world!'[:5]\n",
    "* 'Hello, world!'[3:]"
   ]
  },
  {
   "cell_type": "markdown",
   "id": "6de7dc5d",
   "metadata": {},
   "source": [
    "* Ans:\n",
    "    - e\n",
    "    - Hello\n",
    "    - Hello\n",
    "    - lo, world!"
   ]
  },
  {
   "cell_type": "markdown",
   "id": "57fb9357",
   "metadata": {},
   "source": [
    "#### 7. What are the values of the following expressions?\n",
    "* 'Hello'.upper()\n",
    "* 'Hello'.upper().isupper()\n",
    "* 'Hello'.upper().lower()"
   ]
  },
  {
   "cell_type": "markdown",
   "id": "e303926e",
   "metadata": {},
   "source": [
    "* Ans: \n",
    "    - 'HELLO'\n",
    "    - True\n",
    "    - 'hello'"
   ]
  },
  {
   "cell_type": "markdown",
   "id": "f45c418f",
   "metadata": {},
   "source": [
    "#### 8. What are the values of the following expressions?\n",
    "* 'Remember, remember, the fifth of July.'.split()\n",
    "* '-'.join('There can only one.'.split())"
   ]
  },
  {
   "cell_type": "markdown",
   "id": "69ced33f",
   "metadata": {},
   "source": [
    "* Ans:\n",
    "    - ['Remember,', 'remember,', 'the', 'fifth', 'of', 'July.']\n",
    "    - 'There-can-only-one.'"
   ]
  },
  {
   "cell_type": "markdown",
   "id": "aa9037e4",
   "metadata": {},
   "source": [
    "#### 9. What are the methods for right-justifying, left-justifying, and centering a string?"
   ]
  },
  {
   "cell_type": "markdown",
   "id": "762f0558",
   "metadata": {},
   "source": [
    "* Ans:\n",
    "    - rjust(),\n",
    "    - ljust(),\n",
    "    - center()"
   ]
  },
  {
   "cell_type": "markdown",
   "id": "5043ea21",
   "metadata": {},
   "source": [
    "#### 10. What is the best way to remove whitespace characters from the start or end?"
   ]
  },
  {
   "cell_type": "markdown",
   "id": "97ba8d0b",
   "metadata": {},
   "source": [
    "* Ans: The lstrip() remove whitesapce characters from the left of the string and rstrip() remove whitesapce characters from the right end of the string."
   ]
  },
  {
   "cell_type": "code",
   "execution_count": null,
   "id": "beb7ab73",
   "metadata": {},
   "outputs": [],
   "source": []
  }
 ],
 "metadata": {
  "kernelspec": {
   "display_name": "Python 3 (ipykernel)",
   "language": "python",
   "name": "python3"
  },
  "language_info": {
   "codemirror_mode": {
    "name": "ipython",
    "version": 3
   },
   "file_extension": ".py",
   "mimetype": "text/x-python",
   "name": "python",
   "nbconvert_exporter": "python",
   "pygments_lexer": "ipython3",
   "version": "3.10.8"
  }
 },
 "nbformat": 4,
 "nbformat_minor": 5
}
