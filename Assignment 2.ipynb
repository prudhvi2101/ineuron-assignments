{
 "cells": [
  {
   "cell_type": "markdown",
   "id": "185e5182",
   "metadata": {},
   "source": [
    "## 1.What are the two values of the Boolean data type? How do you write them?\n",
    "\n",
    "Ans: True and False are 2 boolean data types. They can also be written as 1 and 0."
   ]
  },
  {
   "cell_type": "markdown",
   "id": "6906502e",
   "metadata": {},
   "source": [
    "## 2. What are the three different types of Boolean operators?\n",
    "\n",
    "Ans: The three different boolean operator are \"And\", \"or\", \"Not\"."
   ]
  },
  {
   "cell_type": "markdown",
   "id": "badfb910",
   "metadata": {},
   "source": [
    "## 3. Make a list of each Boolean operator's truth tables (i.e. every possible combination of Boolean\n",
    "values for the operator and what it evaluate ).\n",
    "\n",
    "\n",
    "* False and Flase = False\n",
    "* False and True = False\n",
    "* True and False = False\n",
    "* True and True = True\n",
    "\n",
    "* False or Flase = False\n",
    "* False or True = True\n",
    "* True or False = True\n",
    "* True or True = True"
   ]
  },
  {
   "cell_type": "markdown",
   "id": "7a05db12",
   "metadata": {},
   "source": [
    "## 4. What are the values of the following expressions?\n",
    "* (5 > 4) and (3 == 5)   False\n",
    "* not (5 > 4)  False\n",
    "* (5 > 4) or (3 == 5)  True\n",
    "* not ((5 > 4) or (3 == 5)) False\n",
    "* (True and True) and (True == False) False\n",
    "* (not False) or (not True) True"
   ]
  },
  {
   "cell_type": "markdown",
   "id": "527d5248",
   "metadata": {},
   "source": [
    "## 5. What are the six comparison operators?\n",
    "\n",
    "* (>, <, =, >=, <=, !=)"
   ]
  },
  {
   "cell_type": "markdown",
   "id": "5bf1d2ed",
   "metadata": {},
   "source": [
    "## 6. How do you tell the difference between the equal to and assignment operators?Describe a condition and when you would use one.\n",
    "\n",
    "Equal to operator is represented by doube \"==\". This operator is used when comparing a value with other. Ex: a==b\n",
    "Assignment operator is represented by single \"=\". This is used when assigning a value to any variable. Ex: x = 10"
   ]
  },
  {
   "cell_type": "code",
   "execution_count": 11,
   "id": "ca308a8f",
   "metadata": {},
   "outputs": [
    {
     "name": "stdout",
     "output_type": "stream",
     "text": [
      "ham\n",
      "spam\n",
      "spam\n"
     ]
    }
   ],
   "source": [
    "## 7. Identify the three blocks in this code:\n",
    "\n",
    "spam = 0 #block1\n",
    "\n",
    "if spam == 10:    #block2\n",
    "    print('eggs')\n",
    "    \n",
    "if spam > 5:         #block3\n",
    "    print('bacon')\n",
    "else:\n",
    "    print('ham')\n",
    "    print('spam')\n",
    "    print('spam')"
   ]
  },
  {
   "cell_type": "code",
   "execution_count": 10,
   "id": "5ce3d392",
   "metadata": {},
   "outputs": [
    {
     "name": "stdout",
     "output_type": "stream",
     "text": [
      "Greetings\n"
     ]
    }
   ],
   "source": [
    "## 8. Write code that prints Hello if 1 is stored in spam, prints Howdy if 2 is stored in spam, and prints Greetings! if anything else is stored in spam.\n",
    "\n",
    "spam = 0\n",
    "\n",
    "if spam == 1:\n",
    "    print('Hello')\n",
    "elif spam == 2:\n",
    "    print('Howdy')\n",
    "else:\n",
    "    print('Greetings')\n",
    "    \n"
   ]
  },
  {
   "cell_type": "markdown",
   "id": "237956b7",
   "metadata": {},
   "source": [
    "## 9.If your programme is stuck in an endless loop, what keys you’ll press?\n",
    "\n",
    "* Ans: CTLR + C"
   ]
  },
  {
   "cell_type": "markdown",
   "id": "4240b645",
   "metadata": {},
   "source": [
    "## 10. How can you tell the difference between break and continue?\n",
    "\n",
    "* 'Break' keyword is used to stop the loop in which it is present.\n",
    "* 'Continue' keyword forces the loop to execute next iteration"
   ]
  },
  {
   "cell_type": "markdown",
   "id": "25352aca",
   "metadata": {},
   "source": [
    "## 11. In a for loop, what is the difference between range(10), range(0, 10), and range(0, 10, 1)?\n",
    "\n",
    "* range(10) -  For loop takes values from 0 to 10-1.\n",
    "* range(0, 10) - In his scenario, for loop takes values starting from 0 to 9.\n",
    "* range(0,10,1) - In this, for loop takes values till 9 starting from 0 in the sequence of 1."
   ]
  },
  {
   "cell_type": "code",
   "execution_count": 13,
   "id": "08c8522e",
   "metadata": {},
   "outputs": [
    {
     "name": "stdout",
     "output_type": "stream",
     "text": [
      "0\n",
      "1\n",
      "2\n",
      "3\n",
      "4\n",
      "5\n",
      "6\n",
      "7\n",
      "8\n",
      "9\n"
     ]
    }
   ],
   "source": [
    "for i in range(0, 10, 1):\n",
    "    print(i)"
   ]
  },
  {
   "cell_type": "code",
   "execution_count": 15,
   "id": "fd99d70a",
   "metadata": {},
   "outputs": [
    {
     "name": "stdout",
     "output_type": "stream",
     "text": [
      "1\n",
      "2\n",
      "3\n",
      "4\n",
      "5\n",
      "6\n",
      "7\n",
      "8\n",
      "9\n",
      "10\n",
      "1\n",
      "2\n",
      "3\n",
      "4\n",
      "5\n",
      "6\n",
      "7\n",
      "8\n",
      "9\n",
      "10\n"
     ]
    }
   ],
   "source": [
    "## 12. Write a short program that prints the numbers 1 to 10 using a for loop. Then write an equivalent\n",
    "## program that prints the numbers 1 to 10 using a while loop.\n",
    "\n",
    "for i in range(1, 11):\n",
    "    print(i)\n",
    "    \n",
    "i = 1\n",
    "while i < 11:\n",
    "    print(i)\n",
    "    i=i+1"
   ]
  },
  {
   "cell_type": "markdown",
   "id": "45015c88",
   "metadata": {},
   "source": [
    "## 13. If you had a function named bacon() inside a module named spam, how would you call it after importing spam?\n",
    "\n",
    "* Ans: spam.bacon()"
   ]
  },
  {
   "cell_type": "code",
   "execution_count": null,
   "id": "15f0427d",
   "metadata": {},
   "outputs": [],
   "source": []
  }
 ],
 "metadata": {
  "kernelspec": {
   "display_name": "Python 3 (ipykernel)",
   "language": "python",
   "name": "python3"
  },
  "language_info": {
   "codemirror_mode": {
    "name": "ipython",
    "version": 3
   },
   "file_extension": ".py",
   "mimetype": "text/x-python",
   "name": "python",
   "nbconvert_exporter": "python",
   "pygments_lexer": "ipython3",
   "version": "3.9.13"
  }
 },
 "nbformat": 4,
 "nbformat_minor": 5
}
