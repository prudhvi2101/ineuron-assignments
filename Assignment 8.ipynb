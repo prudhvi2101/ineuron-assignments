{
 "cells": [
  {
   "cell_type": "markdown",
   "id": "cc704ec7",
   "metadata": {},
   "source": [
    "#### 1. Is the Python Standard Library included with PyInputPlus?"
   ]
  },
  {
   "cell_type": "markdown",
   "id": "fc52f94c",
   "metadata": {},
   "source": [
    "* Ans: PyInputPlus is not a part of the Python Standard Library, we must install it separately using PIP."
   ]
  },
  {
   "cell_type": "markdown",
   "id": "5d4fda30",
   "metadata": {},
   "source": [
    "#### 2. Why is PyInputPlus commonly imported with import pyinputplus as pypi?"
   ]
  },
  {
   "cell_type": "markdown",
   "id": "e7c264b4",
   "metadata": {},
   "source": [
    "* Ans: We import pyinputplus as pyip so that we can enter a shorter name when calling the module's functions. PyInputPlus has functions for entering a variety of input, including strings, numbers, dates, yes/no, True/False, emails, and files."
   ]
  },
  {
   "cell_type": "markdown",
   "id": "c2454b47",
   "metadata": {},
   "source": [
    "#### 3. How do you distinguish between inputInt() and inputFloat()?"
   ]
  },
  {
   "cell_type": "markdown",
   "id": "c23479f1",
   "metadata": {},
   "source": [
    "* Ans:\n",
    "    - inputInt() only take integers as input and always returns integer value.\n",
    "    - inputFloat() only takes float values as input and only return float values."
   ]
  },
  {
   "cell_type": "markdown",
   "id": "9bb83430",
   "metadata": {},
   "source": [
    "#### 4. Using PyInputPlus, how do you ensure that the user enters a whole number between 0 and 99?"
   ]
  },
  {
   "cell_type": "markdown",
   "id": "12a0313d",
   "metadata": {},
   "source": [
    "* Ans: parameters like min & max can be used to ensure that user enters the values between the defined range only.\n",
    "\n",
    "\n",
    "     import pyinputplus as pyip\n",
    "     wholenumber = pyip.inputInt(prompt='Enter a number: ', min=0, max=99)\n",
    "     print(wholenumber)"
   ]
  },
  {
   "cell_type": "markdown",
   "id": "5b571ca6",
   "metadata": {},
   "source": [
    "#### 5. What is transferred to the keyword arguments allowRegexes and blockRegexes?"
   ]
  },
  {
   "cell_type": "markdown",
   "id": "c39747d3",
   "metadata": {},
   "source": [
    "* Ans: we can use allowRegexes and blockRegexes keyword arguments to take list of regular expression strings to determine what the pyinputplus function will reject or accept valid input."
   ]
  },
  {
   "cell_type": "markdown",
   "id": "6c2afe69",
   "metadata": {},
   "source": [
    "#### 6. If a blank input is entered three times, what does inputStr(limit=3) do?"
   ]
  },
  {
   "cell_type": "markdown",
   "id": "c1f6ba4d",
   "metadata": {},
   "source": [
    "* Ans: It return \"Blank values are not allowed.\" message for 3 times and then shows ValidationException Error."
   ]
  },
  {
   "cell_type": "markdown",
   "id": "cf83bd5c",
   "metadata": {},
   "source": [
    "#### 7. If blank input is entered three times, what does inputStr(limit=3, default=&#39;hello&#39;) do?"
   ]
  },
  {
   "cell_type": "markdown",
   "id": "abcf6cf5",
   "metadata": {},
   "source": [
    "* Ans: It shows \"Blank values are not allowed.\" message for 3 times and returns \"hello\""
   ]
  }
 ],
 "metadata": {
  "kernelspec": {
   "display_name": "Python 3 (ipykernel)",
   "language": "python",
   "name": "python3"
  },
  "language_info": {
   "codemirror_mode": {
    "name": "ipython",
    "version": 3
   },
   "file_extension": ".py",
   "mimetype": "text/x-python",
   "name": "python",
   "nbconvert_exporter": "python",
   "pygments_lexer": "ipython3",
   "version": "3.10.8"
  }
 },
 "nbformat": 4,
 "nbformat_minor": 5
}
