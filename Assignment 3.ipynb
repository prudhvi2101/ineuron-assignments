{
 "cells": [
  {
   "cell_type": "markdown",
   "id": "792adba2",
   "metadata": {},
   "source": [
    "## 1. Why are functions advantageous to have in your programs?\n",
    "\n",
    "* Ans: Functions are used to avoid writting code repeatedly. This makes programmes shorter."
   ]
  },
  {
   "cell_type": "markdown",
   "id": "734c9b71",
   "metadata": {},
   "source": [
    "## 2. When does the code in a function run: when it's specified or when it's called?\n",
    "* Ans: The code in a functoin rens when it is called."
   ]
  },
  {
   "cell_type": "markdown",
   "id": "febbc35c",
   "metadata": {},
   "source": [
    "## 3. What statement creates a function?\n",
    "\n",
    "* Ans: we can create an function in Python by using the keyword \"def\" . Ex: def hello()"
   ]
  },
  {
   "cell_type": "markdown",
   "id": "b223df49",
   "metadata": {},
   "source": [
    "## 4. What is the difference between a function and a function call?\n",
    "\n",
    "* Ans: Function is a set of code that performs some operation and return a result based on the input.\n",
    "        Ex: def hello(*args):\n",
    "            pass\n",
    "*      Function call is an expression that executes the function.\n",
    "        Ex: hello('Hi')"
   ]
  },
  {
   "cell_type": "markdown",
   "id": "6a915f64",
   "metadata": {},
   "source": [
    "## 5. How many global scopes are there in a Python program? How many local scopes?\n",
    "\n",
    "* Ans: There is 1 Global scope and 1 Local scope in Python Programming."
   ]
  },
  {
   "cell_type": "markdown",
   "id": "9deeddba",
   "metadata": {},
   "source": [
    "## 6. What happens to variables in a local scope when the function call returns?\n",
    "\n",
    "* Ans: When a function calls retun, the local scope variable exprires."
   ]
  },
  {
   "cell_type": "markdown",
   "id": "814896f5",
   "metadata": {},
   "source": [
    "## 7. What is the concept of a return value? Is it possible to have a return value in an expression?\n",
    "\n",
    "* Ans: The retun values return the output of a fucntion when it is called. A retunr value cannot contain an expression."
   ]
  },
  {
   "cell_type": "markdown",
   "id": "3a5095b2",
   "metadata": {},
   "source": [
    "## 8. If a function does not have a return statement, what is the return value of a call to that function?\n",
    "\n",
    "* Ans: If a function does not have a return statement, the function does not provide any output/result."
   ]
  },
  {
   "cell_type": "markdown",
   "id": "2c4952b8",
   "metadata": {},
   "source": [
    "## 9. How do you make a function variable refer to the global variable?\n",
    "\n",
    "* Ans: To make a variable inside a function global, we need to use the \"global\" keyword."
   ]
  },
  {
   "cell_type": "markdown",
   "id": "3054799c",
   "metadata": {},
   "source": [
    "## 10. What is the data type of None?\n",
    "\n",
    "* Ans: The datatype of 'None' is \"NoneType\""
   ]
  },
  {
   "cell_type": "markdown",
   "id": "4ec643f2",
   "metadata": {},
   "source": [
    "## 11. What does the sentence import areallyourpetsnamederic do?\n",
    "\n",
    "* Ans: The 'import areallyourpetsnamederic' sentance will import the module:areallyourpetsnamederic"
   ]
  },
  {
   "cell_type": "markdown",
   "id": "b0a93320",
   "metadata": {},
   "source": [
    "## 12. If you had a bacon() feature in a spam module, what would you call it after importing spam?\n",
    "\n",
    "* Ans: spam.bacon()"
   ]
  },
  {
   "cell_type": "markdown",
   "id": "218f8684",
   "metadata": {},
   "source": [
    "## 13. What can you do to save a programme from crashing if it encounters an error?\n",
    "\n",
    "* Ans: To save a programming from crashing in loop, we can use break, continue or pass keywords."
   ]
  },
  {
   "cell_type": "markdown",
   "id": "3f1b256a",
   "metadata": {},
   "source": [
    "## 14. What is the purpose of the try clause? What is the purpose of the except clause?\n",
    "\n",
    "* Ans: Try caluse allows us to test a block of code for erros. Except clause allows use to run code when there are errors in try block."
   ]
  },
  {
   "cell_type": "code",
   "execution_count": null,
   "id": "5019d65b",
   "metadata": {},
   "outputs": [],
   "source": []
  }
 ],
 "metadata": {
  "kernelspec": {
   "display_name": "Python 3 (ipykernel)",
   "language": "python",
   "name": "python3"
  },
  "language_info": {
   "codemirror_mode": {
    "name": "ipython",
    "version": 3
   },
   "file_extension": ".py",
   "mimetype": "text/x-python",
   "name": "python",
   "nbconvert_exporter": "python",
   "pygments_lexer": "ipython3",
   "version": "3.10.8"
  }
 },
 "nbformat": 4,
 "nbformat_minor": 5
}
